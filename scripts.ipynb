{
 "cells": [
  {
   "cell_type": "markdown",
   "metadata": {},
   "source": [
    "# Multiresolution Hash Encoding"
   ]
  },
  {
   "cell_type": "code",
   "execution_count": null,
   "metadata": {},
   "outputs": [],
   "source": [
    "from typing import List\n",
    "import torch\n",
    "import numpy as np\n",
    "from multiresolution_hash_encoding import MultiresolutionHashEncoding\n",
    "from PIL import Image\n",
    "from matplotlib import pyplot as plt\n",
    "Image.MAX_IMAGE_PIXELS = None"
   ]
  },
  {
   "cell_type": "code",
   "execution_count": null,
   "metadata": {},
   "outputs": [],
   "source": [
    "EPOCHS = 1"
   ]
  },
  {
   "cell_type": "code",
   "execution_count": null,
   "metadata": {},
   "outputs": [],
   "source": [
    "class ImageEncoder(torch.nn.Module):\n",
    "    def __init__(self, image_dims):\n",
    "        super().__init__()\n",
    "        self.encoding = MultiresolutionHashEncoding(2**22, 2, 2, levels=16, N_min=16, N_max=image_dims)\n",
    "        self.mlp = torch.nn.ModuleList(\n",
    "            [torch.nn.Linear(32, 64),\n",
    "            torch.nn.ReLU(),\n",
    "            torch.nn.Linear(64, 64),\n",
    "            torch.nn.ReLU(),\n",
    "            torch.nn.Linear(64, 3),\n",
    "            torch.nn.Sigmoid()]\n",
    "        )\n",
    "        self.mlp\n",
    "\n",
    "    def forward(self, x):\n",
    "        x = self.encoding(x)\n",
    "        for layer in self.mlp:\n",
    "            x = layer(x)\n",
    "        return x"
   ]
  },
  {
   "cell_type": "code",
   "execution_count": null,
   "metadata": {},
   "outputs": [],
   "source": [
    "img = Image.open(\"test_files/matthias-reim.jpg\")\n",
    "\n",
    "im_dim = max(img.width, img.height)\n",
    "\n",
    "m = ImageEncoder(im_dim).cuda()\n",
    "\n",
    "optimizer = torch.optim.Adam(\n",
    "            m.parameters(),\n",
    "            betas=(0.9, 0.999),\n",
    "            eps=1e-15,\n",
    "            lr = 1e-2)\n",
    "\n",
    "loss_func = torch.nn.MSELoss()\n",
    "\n",
    "grid = np.mgrid[0:img.height, 0:img.width].T.reshape(-1, 2)\n",
    "np.random.shuffle(grid)\n",
    "BATCH_SIZE = 5000\n",
    "normalization = max(img.width, img.height)\n",
    "grid:List[np.ndarray] = [grid[i * BATCH_SIZE:(i+1) * BATCH_SIZE] for i in range(int(np.ceil(len(grid) / BATCH_SIZE)))]\n",
    "\n",
    "print(f\"Image batch size ({img.width}, {img.height})\")\n",
    "\n",
    "np_img = np.array(img).astype(np.float32) / 255.0\n",
    "\n",
    "for i in range(EPOCHS):\n",
    "    for j, inp in enumerate(grid):\n",
    "        im = torch.tensor(np_img[inp[:,0], inp[:,1]], device='cuda:0')\n",
    "\n",
    "        optimizer.zero_grad()\n",
    "\n",
    "        pred_im = m(torch.tensor(inp.astype(np.float32) / normalization, device='cuda:0'))\n",
    "\n",
    "        loss:torch.Tensor = loss_func(pred_im.reshape(im.shape), im)\n",
    "        \n",
    "        print(f\"Batch: {i + 1}/{EPOCHS}, Step: {j + 1}/{len(grid)}, loss:{loss.detach().cpu()}.\")\n",
    "\n",
    "        loss.backward()\n",
    "        optimizer.step()\n"
   ]
  },
  {
   "cell_type": "code",
   "execution_count": null,
   "metadata": {},
   "outputs": [],
   "source": [
    "with torch.no_grad():\n",
    "    pred_im = m(torch.tensor(\n",
    "                np.mgrid[0:img.height, 0:img.width].reshape(2,-1).T, device='cuda:0'\n",
    "            ) / im_dim )\n",
    "    im_arr = (pred_im.cpu().numpy().reshape(img.height, img.width,3))\n",
    "    plt.imshow(im_arr)\n",
    "    plt.figure()\n",
    "    plt.imshow(img)"
   ]
  },
  {
   "cell_type": "code",
   "execution_count": null,
   "metadata": {},
   "outputs": [],
   "source": []
  }
 ],
 "metadata": {
  "interpreter": {
   "hash": "118c1032304a1c3d5ab877c7ca5dd46a137cf26799d1b97c9d6f700ce3d620cd"
  },
  "kernelspec": {
   "display_name": "Python 3.7.13 ('torch-env')",
   "language": "python",
   "name": "python3"
  },
  "language_info": {
   "codemirror_mode": {
    "name": "ipython",
    "version": 3
   },
   "file_extension": ".py",
   "mimetype": "text/x-python",
   "name": "python",
   "nbconvert_exporter": "python",
   "pygments_lexer": "ipython3",
   "version": "3.7.13"
  },
  "orig_nbformat": 4
 },
 "nbformat": 4,
 "nbformat_minor": 2
}
