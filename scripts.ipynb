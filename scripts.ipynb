{
 "cells": [
  {
   "cell_type": "markdown",
   "metadata": {},
   "source": [
    "# Multiresolution Hash Encoding"
   ]
  },
  {
   "cell_type": "code",
   "execution_count": null,
   "metadata": {},
   "outputs": [],
   "source": [
    "from typing import List\n",
    "import torch\n",
    "import numpy as np\n",
    "from multiresolution_hash_encoding import MultiresolutionHashEncoding\n",
    "from PIL import Image\n",
    "from matplotlib import pyplot as plt\n",
    "import pickle\n",
    "Image.MAX_IMAGE_PIXELS = None"
   ]
  },
  {
   "cell_type": "markdown",
   "metadata": {},
   "source": [
    "## Train Images"
   ]
  },
  {
   "cell_type": "code",
   "execution_count": null,
   "metadata": {},
   "outputs": [],
   "source": [
    "EPOCHS = 1"
   ]
  },
  {
   "cell_type": "code",
   "execution_count": null,
   "metadata": {},
   "outputs": [],
   "source": [
    "class ImageEncoder(torch.nn.Module):\n",
    "    def __init__(self, image_dims):\n",
    "        super().__init__()\n",
    "        self.encoding = MultiresolutionHashEncoding(2**22, 2, 2, levels=16, N_min=16, N_max=image_dims)\n",
    "        self.mlp = torch.nn.ModuleList(\n",
    "            [torch.nn.Linear(32, 64),\n",
    "            torch.nn.ReLU(),\n",
    "            torch.nn.Linear(64, 64),\n",
    "            torch.nn.ReLU(),\n",
    "            torch.nn.Linear(64, 3),\n",
    "            torch.nn.Sigmoid()]\n",
    "        )\n",
    "\n",
    "    def forward(self, x):\n",
    "        x = self.encoding(x)\n",
    "        for layer in self.mlp:\n",
    "            x = layer(x)\n",
    "        return x"
   ]
  },
  {
   "cell_type": "code",
   "execution_count": null,
   "metadata": {},
   "outputs": [],
   "source": [
    "img = Image.open(\"test_files/husk.jpg\")\n",
    "\n",
    "im_dim = max(img.width, img.height)\n",
    "\n",
    "m = ImageEncoder(im_dim).cuda()\n",
    "\n",
    "optimizer = torch.optim.Adam(\n",
    "            [{'params': m.encoding.parameters()}, {'params':m.mlp.parameters(), 'weight_decay':1e-6}],\n",
    "            betas=(0.9, 0.999),\n",
    "            eps=1e-15,\n",
    "            lr = 1e-2)\n",
    "\n",
    "loss_func = torch.nn.MSELoss()\n",
    "\n",
    "grid = np.mgrid[0:img.height, 0:img.width].T.reshape(-1, 2)\n",
    "np.random.shuffle(grid)\n",
    "BATCH_SIZE = 1000\n",
    "grid:List[np.ndarray] = [grid[i * BATCH_SIZE:(i+1) * BATCH_SIZE] for i in range(int(np.ceil(len(grid) / BATCH_SIZE)))]\n",
    "\n",
    "print(f\"Image batch size ({img.width}, {img.height})\")\n",
    "\n",
    "np_img = np.array(img).astype(np.float32) / 255.0\n",
    "\n",
    "for i in range(EPOCHS):\n",
    "    for j, inp in enumerate(grid):\n",
    "        im = torch.tensor(np_img[inp[:,0], inp[:,1]], device='cuda:0')\n",
    "\n",
    "        optimizer.zero_grad()\n",
    "\n",
    "        pred_im = m(torch.tensor(inp.astype(np.float32) / im_dim, device='cuda:0'))\n",
    "\n",
    "        loss:torch.Tensor = loss_func(pred_im.reshape(im.shape), im)\n",
    "        \n",
    "        print(f\"Batch: {i + 1}/{EPOCHS}, Step: {j + 1}/{len(grid)}, loss:{loss.detach().cpu()}.\")\n",
    "\n",
    "        loss.backward()\n",
    "        optimizer.step()\n",
    "\n",
    "optimizer.zero_grad(True)\n"
   ]
  },
  {
   "cell_type": "code",
   "execution_count": null,
   "metadata": {},
   "outputs": [],
   "source": [
    "img = Image.open(\"test_files/tokyo.jpg\")\n",
    "\n",
    "im_dim = max(img.width, img.height)\n",
    "print(f\"Image batch size ({img.width}, {img.height})\")\n",
    "\n",
    "img = None\n",
    "losses_list = []\n",
    "\n",
    "#m = ImageEncoder(im_dim).cuda()\n",
    "\n",
    "optimizer = torch.optim.Adam(\n",
    "            m.parameters(),\n",
    "            betas=(0.9, 0.999),\n",
    "            eps=1e-15,\n",
    "            lr = 1e-2)\n",
    "\n",
    "loss_func = torch.nn.MSELoss()\n",
    "BATCH_SIZE = 1_000_000\n",
    "\n",
    "for e in range(EPOCHS):\n",
    "    for j in range(609):\n",
    "        with open(f\"test_files/batches/batch_{j}.pickle\", 'rb') as f:\n",
    "            data = pickle.load(f)\n",
    "            sub_grid:np.ndarray = data[\"pos\"]\n",
    "            colors:np.ndarray = data[\"color\"].astype(np.float32)\n",
    "            data = None\n",
    "        \n",
    "        for k in range(len(sub_grid) // BATCH_SIZE):\n",
    "            grid = sub_grid[k*BATCH_SIZE:(k+1)*BATCH_SIZE]\n",
    "            np_img = colors[k*BATCH_SIZE:(k+1)*BATCH_SIZE]\n",
    "            grid = grid.astype(np.float32) / im_dim\n",
    "\n",
    "            im = torch.tensor(np_img[:len(grid)], device='cuda:0')\n",
    "\n",
    "            optimizer.zero_grad()\n",
    "\n",
    "            pred_im = m(torch.tensor(grid, device='cuda:0'))\n",
    "\n",
    "            loss:torch.Tensor = loss_func(pred_im.reshape(im.shape), im)\n",
    "\n",
    "            losses_list.append(loss.detach().cpu().numpy())\n",
    "            \n",
    "            print(f\"Batch: {j + 1}/{609}, Step: {k + 1}/{len(sub_grid) // BATCH_SIZE}, loss:{loss.detach().cpu()}.\")\n",
    "\n",
    "            loss.backward()\n",
    "            optimizer.step()\n",
    "    torch.save(m.state_dict(), f\"test_files/tokyo_epoch{e}.pt\")\n",
    "optimizer.zero_grad(True)\n",
    "with open(f\"test_files/loss_total.pickle\", 'wb') as f:\n",
    "    pickle.dump(np.array(losses_list), f)"
   ]
  },
  {
   "cell_type": "code",
   "execution_count": null,
   "metadata": {},
   "outputs": [],
   "source": [
    "plt.plot(np.array(losses_list))"
   ]
  },
  {
   "cell_type": "code",
   "execution_count": null,
   "metadata": {},
   "outputs": [],
   "source": [
    "start_x = 28_359\n",
    "start_y = 19_000\n",
    "\n",
    "end_x = 29_559\n",
    "end_y = 20_000\n",
    "\n",
    "with torch.no_grad():\n",
    "    pred_im = m(torch.tensor(\n",
    "                np.mgrid[start_x:end_x, start_y:end_y].T.reshape(-1,2), device='cuda:0'\n",
    "            ) / im_dim )\n",
    "    im_arr = (pred_im.cpu().numpy().reshape(end_y - start_y, end_x - start_x,3))\n",
    "    plt.imshow(im_arr)\n",
    "    plt.figure()\n",
    "    plt.imshow(img.crop((start_x, start_y, end_x, end_y)))"
   ]
  },
  {
   "cell_type": "code",
   "execution_count": null,
   "metadata": {},
   "outputs": [],
   "source": [
    "torch.save(m.state_dict(), \"test_files/tokyo.pt\")"
   ]
  },
  {
   "cell_type": "code",
   "execution_count": null,
   "metadata": {},
   "outputs": [],
   "source": [
    "img = Image.open(\"test_files/tokyo.jpg\")\n",
    "\n",
    "im_dim = max(img.width, img.height)\n",
    "\n",
    "width = img.width\n",
    "height = img.height\n",
    "\n",
    "img = None\n",
    "\n",
    "m = ImageEncoder(im_dim).cuda()\n",
    "\n",
    "m.load_state_dict(torch.load(\"test_files/tokyo_final_2.pt\"))\n",
    "m.eval()"
   ]
  },
  {
   "cell_type": "code",
   "execution_count": null,
   "metadata": {},
   "outputs": [],
   "source": [
    "MSE = 0\n",
    "norm = width * height * 3\n",
    "with torch.no_grad():\n",
    "    for i in range(609):\n",
    "        print(f\"Processing batch {i}\", end=\"\\r\")\n",
    "        with open(f\"test_files/batches/batch_{i}.pickle\", 'rb') as f:\n",
    "            data = pickle.load(f)\n",
    "            sub_grid:np.ndarray = data[\"pos\"]\n",
    "            colors:np.ndarray = torch.from_numpy(data[\"color\"].astype(np.float32)).cuda()\n",
    "            data = None\n",
    "        for j in range(2):\n",
    "            pred_im:torch.Tensor = m(torch.from_numpy(sub_grid[j*(sub_grid.shape[0]//2):(j+1)*(sub_grid.shape[0]//2)]).cuda())\n",
    "            MSE += (torch.square(pred_im - colors[j*(sub_grid.shape[0]//2):(j+1)*(sub_grid.shape[0]//2)]) / norm).sum().cpu().numpy()\n",
    "\n",
    "PSNR = 10 * np.log10((1) / MSE)\n",
    "\n",
    "print(f\"MSE: {MSE}\")\n",
    "print(f\"PSNR: {PSNR}\")\n"
   ]
  },
  {
   "cell_type": "markdown",
   "metadata": {},
   "source": [
    "## Create Batch Indices"
   ]
  },
  {
   "cell_type": "code",
   "execution_count": null,
   "metadata": {},
   "outputs": [],
   "source": [
    "BATCH_SIZE = 2_000_000\n",
    "\n",
    "img = Image.open(\"test_files/tokyo.jpg\")\n",
    "print(\"Aranging indices...\", end='\\r')\n",
    "indices = np.arange(img.width * img.height)\n",
    "width = img.width\n",
    "height = img.height\n",
    "img = None\n",
    "print(\"Shuffling indices...\", end='\\r')\n",
    "np.random.shuffle(indices)\n",
    "\n",
    "num_batches = int(np.ceil(len(indices) / BATCH_SIZE))\n",
    "\n",
    "coords = np.empty((BATCH_SIZE, 2), dtype=np.int32)\n",
    "\n",
    "for i in range(num_batches):\n",
    "    print(f\"Processing {i + 1} of {num_batches}.\", end='\\r')\n",
    "    inds = indices[i * BATCH_SIZE:(i+1)*BATCH_SIZE]\n",
    "    for j, index in enumerate(inds):\n",
    "        coords[j, 0] = index // height\n",
    "        coords[j, 1] = index % height\n",
    "\n",
    "    with open(f\"test_files/batch_indices/indices_{i}.pickle\", 'wb') as f:\n",
    "        pickle.dump(coords[:len(inds)], f)\n",
    "\n"
   ]
  },
  {
   "cell_type": "code",
   "execution_count": null,
   "metadata": {},
   "outputs": [],
   "source": [
    "import numpy as np\n",
    "from PIL import Image\n",
    "import pickle\n",
    "Image.MAX_IMAGE_PIXELS = None\n",
    "\n",
    "img = Image.open(\"test_files/tokyo.jpg\")\n",
    "\n",
    "for i in range(600,609):\n",
    "    with open(f\"test_files/batch_indices/indices_{i}.pickle\", 'rb') as f:\n",
    "        grid = pickle.load(f)\n",
    "    np_img = np.empty((grid.shape[0], 3), np.uint8)\n",
    "    for j, c in enumerate(grid):\n",
    "        color = img.getpixel((c[0], c[1]))\n",
    "        np_img[j, 0] = color[0]\n",
    "        np_img[j, 1] = color[1]\n",
    "        np_img[j, 2] = color[2]\n",
    "    np_img = np_img / 255.0\n",
    "    with open(f\"test_files/batches/batch_{i}.pickle\", 'wb') as f:\n",
    "        pickle.dump({\"pos\":grid, \"color\":np_img}, f)\n",
    "    print(f\"Done processing file {i}.\")"
   ]
  }
 ],
 "metadata": {
  "interpreter": {
   "hash": "118c1032304a1c3d5ab877c7ca5dd46a137cf26799d1b97c9d6f700ce3d620cd"
  },
  "kernelspec": {
   "display_name": "Python 3.7.13 ('torch-env')",
   "language": "python",
   "name": "python3"
  },
  "language_info": {
   "codemirror_mode": {
    "name": "ipython",
    "version": 3
   },
   "file_extension": ".py",
   "mimetype": "text/x-python",
   "name": "python",
   "nbconvert_exporter": "python",
   "pygments_lexer": "ipython3",
   "version": "3.7.13"
  },
  "orig_nbformat": 4
 },
 "nbformat": 4,
 "nbformat_minor": 2
}
