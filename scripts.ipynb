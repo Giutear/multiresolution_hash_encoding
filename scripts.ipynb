{
 "cells": [
  {
   "cell_type": "markdown",
   "metadata": {},
   "source": [
    "# Multiresolution Hash Encoding"
   ]
  },
  {
   "cell_type": "code",
   "execution_count": null,
   "metadata": {},
   "outputs": [],
   "source": [
    "import torch\n",
    "import numpy as np\n",
    "from multiresolution_hash_encoding import MultiresolutionHashEncoding\n",
    "from PIL import Image\n",
    "Image.MAX_IMAGE_PIXELS = None"
   ]
  },
  {
   "cell_type": "code",
   "execution_count": null,
   "metadata": {},
   "outputs": [],
   "source": [
    "EPOCHS = 1"
   ]
  },
  {
   "cell_type": "code",
   "execution_count": null,
   "metadata": {},
   "outputs": [],
   "source": [
    "class ImageEncoder(torch.nn.Module):\n",
    "    def __init__(self):\n",
    "        super().__init__()\n",
    "        self.encoding = MultiresolutionHashEncoding(2**22, 2, 2, levels=16, N_min=16, N_max=56718)\n",
    "        self.mlp = torch.nn.ModuleList(\n",
    "            [torch.nn.Linear(32, 32),\n",
    "            torch.nn.ReLU(),\n",
    "            torch.nn.Linear(32, 32),\n",
    "            torch.nn.ReLU(),\n",
    "            torch.nn.Linear(32, 3),\n",
    "            torch.nn.Sigmoid(),]\n",
    "        )\n",
    "        self.mlp\n",
    "\n",
    "    def forward(self, x):\n",
    "        x = self.encoding(x)\n",
    "        for layer in self.mlp:\n",
    "            x = layer(x)\n",
    "        return x\n",
    "\n",
    "img = Image.open(\"test_files/tokyo.jpg\")\n",
    "\n",
    "m = ImageEncoder().cuda()\n",
    "\n",
    "optimizer = torch.optim.Adam(\n",
    "            m.parameters(),\n",
    "            betas=(0.9, 0.999),\n",
    "            eps=1e-08)\n",
    "scheduler = torch.optim.lr_scheduler.StepLR(optimizer, step_size=30, gamma=0.5)\n",
    "\n",
    "loss_func = torch.nn.MSELoss()\n",
    "\n",
    "im_x_split = 200\n",
    "im_y_split = 800\n",
    "\n",
    "sub_x_dim = img.size[0] // im_x_split\n",
    "sub_y_dim = img.size[1] // im_y_split\n",
    "\n",
    "print(f\"Image batch size ({sub_x_dim}, {sub_y_dim})\")\n",
    "\n",
    "for i in range(EPOCHS):\n",
    "    for j, k in [(j, k) for j in range(im_x_split) for k in range(im_y_split)]:\n",
    "        print(f\"{i * k} out of {im_x_split * im_y_split} batches.\")\n",
    "        im = np.array(img.crop((j * sub_x_dim, k * sub_y_dim, (j + 1) * sub_x_dim, (k + 1) * sub_y_dim)))\n",
    "        im = torch.tensor(im.astype(np.float32) / 255.0, device='cuda:0')\n",
    "\n",
    "        im_coords = torch.tensor(\n",
    "            np.mgrid[j*sub_x_dim:(j + 1) * sub_x_dim, k * sub_y_dim:(k + 1) *sub_y_dim].reshape(2,-1).T, device='cuda:0'\n",
    "        )\n",
    "\n",
    "        optimizer.zero_grad()\n",
    "        m.train()\n",
    "\n",
    "        pred_im = m(im_coords)\n",
    "\n",
    "        loss:torch.Tensor = loss_func(pred_im.reshape(im.shape), im)\n",
    "\n",
    "        loss.backward()\n",
    "        optimizer.step()\n",
    "    \n",
    "    scheduler.step()\n",
    "\n"
   ]
  }
 ],
 "metadata": {
  "interpreter": {
   "hash": "53cff9a7a9d2de171a981696e32578b61a0a8a9fb8e5b914ff46ff9136761253"
  },
  "kernelspec": {
   "display_name": "Python 3.7.13 ('torch-env')",
   "language": "python",
   "name": "python3"
  },
  "language_info": {
   "codemirror_mode": {
    "name": "ipython",
    "version": 3
   },
   "file_extension": ".py",
   "mimetype": "text/x-python",
   "name": "python",
   "nbconvert_exporter": "python",
   "pygments_lexer": "ipython3",
   "version": "3.7.13"
  },
  "orig_nbformat": 4
 },
 "nbformat": 4,
 "nbformat_minor": 2
}
